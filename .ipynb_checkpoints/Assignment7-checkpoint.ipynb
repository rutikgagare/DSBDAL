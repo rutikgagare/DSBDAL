{
 "cells": [
  {
   "cell_type": "markdown",
   "id": "12086512",
   "metadata": {},
   "source": [
    "## Text Analytics\n",
    "1. Extract Sample document and apply following document preprocessing methods:\n",
    "Tokenization, POS Tagging, stop words removal, Stemming and Lemmatization.\n",
    "2. Create representation of document by calculating Term Frequency and Inverse Document\n",
    "Frequency."
   ]
  },
  {
   "cell_type": "code",
   "execution_count": 1,
   "id": "a060fc44",
   "metadata": {},
   "outputs": [],
   "source": [
    "# py -m install nltk\n",
    "import nltk"
   ]
  },
  {
   "cell_type": "code",
   "execution_count": 2,
   "id": "673a94c4",
   "metadata": {},
   "outputs": [],
   "source": [
    "# nltk.download('punkt')\n",
    "# nltk.download('all')"
   ]
  },
  {
   "cell_type": "code",
   "execution_count": 3,
   "id": "b1421a81",
   "metadata": {},
   "outputs": [],
   "source": [
    "# sample text\n",
    "text=\"\"\"Hello Mr. Smith, how are you doing today? The weather is great, and city is awesome.\n",
    "The sky is pinkish-blue. You shouldn't eat cardboard\"\"\""
   ]
  },
  {
   "cell_type": "code",
   "execution_count": 4,
   "id": "057f0502",
   "metadata": {},
   "outputs": [],
   "source": [
    "# tokenizing the sentence\n",
    "from nltk.tokenize import sent_tokenize"
   ]
  },
  {
   "cell_type": "code",
   "execution_count": 5,
   "id": "f030617a",
   "metadata": {},
   "outputs": [
    {
     "name": "stdout",
     "output_type": "stream",
     "text": [
      "['Hello Mr. Smith, how are you doing today?', 'The weather is great, and city is awesome.', 'The sky is pinkish-blue.', \"You shouldn't eat cardboard\"]\n"
     ]
    }
   ],
   "source": [
    "tokenized = sent_tokenize(text)\n",
    "print(tokenized)"
   ]
  },
  {
   "cell_type": "code",
   "execution_count": 6,
   "id": "1d09ac8b",
   "metadata": {},
   "outputs": [],
   "source": [
    "# tokenizing the words\n",
    "from nltk.tokenize import word_tokenize"
   ]
  },
  {
   "cell_type": "code",
   "execution_count": 7,
   "id": "380cbce6",
   "metadata": {},
   "outputs": [
    {
     "name": "stdout",
     "output_type": "stream",
     "text": [
      "['Hello', 'Mr.', 'Smith', ',', 'how', 'are', 'you', 'doing', 'today', '?', 'The', 'weather', 'is', 'great', ',', 'and', 'city', 'is', 'awesome', '.', 'The', 'sky', 'is', 'pinkish-blue', '.', 'You', 'should', \"n't\", 'eat', 'cardboard']\n"
     ]
    }
   ],
   "source": [
    "tokenized_words = word_tokenize(text)\n",
    "print(tokenized_words)"
   ]
  },
  {
   "cell_type": "code",
   "execution_count": 8,
   "id": "edfbb22e",
   "metadata": {},
   "outputs": [],
   "source": [
    "# nltk.download('stopwords')\n",
    "from nltk.corpus import stopwords\n",
    "stopwords = set(stopwords.words('english'))"
   ]
  },
  {
   "cell_type": "code",
   "execution_count": 9,
   "id": "e35a88a3",
   "metadata": {},
   "outputs": [
    {
     "name": "stdout",
     "output_type": "stream",
     "text": [
      "{'won', 'ourselves', 'at', 'didn', 'have', 'with', 'after', 're', \"shan't\", 'any', \"she's\", 'their', 'isn', 'too', 'of', 'here', 'into', 'on', 'can', 'now', 'o', 'no', 'her', 'had', 'below', \"didn't\", \"doesn't\", 'itself', 'wouldn', 'his', 'don', 'aren', 'between', 'them', 'hers', 'she', 'or', 'all', 'my', 'while', 'whom', 'but', 'when', 'mustn', 'doesn', \"hasn't\", 'off', 'are', 'other', 'y', 'having', 'been', 'nor', 'yourselves', 'll', 'not', 'shouldn', 'himself', 'under', 'ours', 'me', 'very', 'during', 'about', 'such', 'and', \"it's\", 'few', 'same', 'was', 'd', \"couldn't\", 'some', 'doing', \"haven't\", 'out', \"isn't\", \"mightn't\", 'you', 'yours', 'each', 'up', 'only', \"wouldn't\", 'yourself', 'what', 'will', 'if', 'to', 'a', 'by', 'herself', 'haven', 'it', 'these', 'your', 'down', 'weren', 'did', \"don't\", 'he', 'should', 'over', 'themselves', 've', 'more', 'were', 'again', 's', 'its', \"shouldn't\", 'there', 'hasn', 'how', 'then', \"aren't\", 'where', 'mightn', 'ain', \"you've\", \"you'd\", 'theirs', \"wasn't\", \"needn't\", 'myself', 'against', \"won't\", 't', 'because', \"you'll\", 'than', 'the', 'has', 'this', 'both', 'own', 'we', 'just', 'an', 'that', 'does', 'which', 'above', 'ma', 'until', \"weren't\", 'once', 'who', 'do', \"should've\", 'couldn', 'being', 'most', \"hadn't\", 'as', 'm', 'hadn', 'further', 'in', \"mustn't\", 'for', 'from', \"that'll\", 'i', 'him', 'wasn', \"you're\", 'before', 'am', 'is', 'those', 'why', 'needn', 'be', 'through', 'they', 'shan', 'so', 'our'}\n"
     ]
    }
   ],
   "source": [
    "print(stopwords)"
   ]
  },
  {
   "cell_type": "code",
   "execution_count": 10,
   "id": "063bdc51",
   "metadata": {},
   "outputs": [
    {
     "name": "stdout",
     "output_type": "stream",
     "text": [
      "['Hello', 'Mr.', 'Smith', ',', 'today', '?', 'The', 'weather', 'great', ',', 'city', 'awesome', '.', 'The', 'sky', 'pinkish-blue', '.', 'You', \"n't\", 'eat', 'cardboard']\n"
     ]
    }
   ],
   "source": [
    "# removing stopwords \n",
    "\n",
    "filtered_words = []\n",
    "for w in tokenized_words:\n",
    "    if w not in stopwords:\n",
    "        filtered_words.append(w)\n",
    "\n",
    "print(filtered_words)"
   ]
  },
  {
   "cell_type": "code",
   "execution_count": 11,
   "id": "c48a2917",
   "metadata": {},
   "outputs": [
    {
     "name": "stdout",
     "output_type": "stream",
     "text": [
      "Stemmed Words: ['hello', 'mr.', 'smith', ',', 'today', '?', 'the', 'weather', 'great', ',', 'citi', 'awesom', '.', 'the', 'sky', 'pinkish-blu', '.', 'you', \"n't\", 'eat', 'cardboard']\n"
     ]
    }
   ],
   "source": [
    "# stemming \n",
    "\n",
    "from nltk.stem import PorterStemmer\n",
    "ps = PorterStemmer()\n",
    "\n",
    "stemmed_words=[]\n",
    "for w in filtered_words:\n",
    "    stemmed_words.append(ps.stem(w))\n",
    "\n",
    "print(\"Stemmed Words:\",stemmed_words)"
   ]
  },
  {
   "cell_type": "code",
   "execution_count": 12,
   "id": "2998b692",
   "metadata": {},
   "outputs": [],
   "source": [
    "# nltk.download('wordnet')"
   ]
  },
  {
   "cell_type": "code",
   "execution_count": 13,
   "id": "879cc349",
   "metadata": {},
   "outputs": [
    {
     "name": "stdout",
     "output_type": "stream",
     "text": [
      "lemmatized Sentence:  ['Hello', 'Mr.', 'Smith', ',', 'today', '?', 'The', 'weather', 'great', ',', 'city', 'awesome', '.', 'The', 'sky', 'pinkish-blue', '.', 'You', \"n't\", 'eat', 'cardboard']\n"
     ]
    }
   ],
   "source": [
    "# Lemmatization\n",
    "\n",
    "from nltk.stem.wordnet import WordNetLemmatizer\n",
    "lem = WordNetLemmatizer()\n",
    "\n",
    "lemmatized_words = []\n",
    "for w in filtered_words:\n",
    "    lemmatized_words.append(lem.lemmatize(w))\n",
    "\n",
    "print(\"lemmatized Sentence: \", lemmatized_words)"
   ]
  },
  {
   "cell_type": "code",
   "execution_count": 14,
   "id": "8b8e82ee",
   "metadata": {},
   "outputs": [],
   "source": [
    "# Pos tagging (part of speech)\n",
    "\n",
    "# !py -m pip install spacy\n",
    "import spacy"
   ]
  },
  {
   "cell_type": "code",
   "execution_count": 15,
   "id": "3b8c6c97",
   "metadata": {},
   "outputs": [],
   "source": [
    "# ! py -m spacy download en_core_web_sm"
   ]
  },
  {
   "cell_type": "code",
   "execution_count": 16,
   "id": "e1a55c1c",
   "metadata": {},
   "outputs": [],
   "source": [
    "nlp = spacy.load('en_core_web_sm')\n",
    "doc = nlp(text)"
   ]
  },
  {
   "cell_type": "code",
   "execution_count": 17,
   "id": "a5400bc7",
   "metadata": {},
   "outputs": [
    {
     "name": "stdout",
     "output_type": "stream",
     "text": [
      "Hello | INTJ | interjection | UH interjection\n",
      "\n",
      "Mr. | PROPN | proper noun | NNP noun, proper singular\n",
      "\n",
      "Smith | PROPN | proper noun | NNP noun, proper singular\n",
      "\n",
      ", | PUNCT | punctuation | , punctuation mark, comma\n",
      "\n",
      "how | SCONJ | subordinating conjunction | WRB wh-adverb\n",
      "\n",
      "are | AUX | auxiliary | VBP verb, non-3rd person singular present\n",
      "\n",
      "you | PRON | pronoun | PRP pronoun, personal\n",
      "\n",
      "doing | VERB | verb | VBG verb, gerund or present participle\n",
      "\n",
      "today | NOUN | noun | NN noun, singular or mass\n",
      "\n",
      "? | PUNCT | punctuation | . punctuation mark, sentence closer\n",
      "\n",
      "The | DET | determiner | DT determiner\n",
      "\n",
      "weather | NOUN | noun | NN noun, singular or mass\n",
      "\n",
      "is | AUX | auxiliary | VBZ verb, 3rd person singular present\n",
      "\n",
      "great | ADJ | adjective | JJ adjective (English), other noun-modifier (Chinese)\n",
      "\n",
      ", | PUNCT | punctuation | , punctuation mark, comma\n",
      "\n",
      "and | CCONJ | coordinating conjunction | CC conjunction, coordinating\n",
      "\n",
      "city | NOUN | noun | NN noun, singular or mass\n",
      "\n",
      "is | AUX | auxiliary | VBZ verb, 3rd person singular present\n",
      "\n",
      "awesome | ADJ | adjective | JJ adjective (English), other noun-modifier (Chinese)\n",
      "\n",
      ". | PUNCT | punctuation | . punctuation mark, sentence closer\n",
      "\n",
      "\n",
      " | SPACE | space | _SP whitespace\n",
      "\n",
      "The | DET | determiner | DT determiner\n",
      "\n",
      "sky | NOUN | noun | NN noun, singular or mass\n",
      "\n",
      "is | AUX | auxiliary | VBZ verb, 3rd person singular present\n",
      "\n",
      "pinkish | NOUN | noun | NN noun, singular or mass\n",
      "\n",
      "- | PUNCT | punctuation | HYPH punctuation mark, hyphen\n",
      "\n",
      "blue | ADJ | adjective | JJ adjective (English), other noun-modifier (Chinese)\n",
      "\n",
      ". | PUNCT | punctuation | . punctuation mark, sentence closer\n",
      "\n",
      "You | PRON | pronoun | PRP pronoun, personal\n",
      "\n",
      "should | AUX | auxiliary | MD verb, modal auxiliary\n",
      "\n",
      "n't | PART | particle | RB adverb\n",
      "\n",
      "eat | VERB | verb | VB verb, base form\n",
      "\n",
      "cardboard | NOUN | noun | NN noun, singular or mass\n",
      "\n"
     ]
    }
   ],
   "source": [
    "for token in doc:\n",
    "    print(token, \"|\", token.pos_,\"|\", spacy.explain(token.pos_),\"|\",token.tag_, spacy.explain(token.tag_))\n",
    "    print(\"\")"
   ]
  },
  {
   "cell_type": "code",
   "execution_count": 18,
   "id": "febfe826",
   "metadata": {},
   "outputs": [],
   "source": [
    "# Term Frequency and Inverse Document Frequency"
   ]
  },
  {
   "cell_type": "code",
   "execution_count": 23,
   "id": "fd216dca",
   "metadata": {},
   "outputs": [
    {
     "name": "stdout",
     "output_type": "stream",
     "text": [
      "TF-IDF Values : \n",
      "   (0, 9)\t1.0\n",
      "  (1, 12)\t1.0\n",
      "  (2, 16)\t1.0\n",
      "  (4, 10)\t1.0\n",
      "  (5, 1)\t1.0\n",
      "  (6, 20)\t1.0\n",
      "  (7, 6)\t1.0\n",
      "  (8, 18)\t1.0\n",
      "  (10, 17)\t1.0\n",
      "  (11, 19)\t1.0\n",
      "  (12, 11)\t1.0\n",
      "  (13, 8)\t1.0\n",
      "  (15, 0)\t1.0\n",
      "  (16, 5)\t1.0\n",
      "  (17, 11)\t1.0\n",
      "  (18, 2)\t1.0\n",
      "  (20, 17)\t1.0\n",
      "  (21, 15)\t1.0\n",
      "  (22, 11)\t1.0\n",
      "  (23, 3)\t0.7071067811865475\n",
      "  (23, 13)\t0.7071067811865475\n",
      "  (25, 20)\t1.0\n",
      "  (26, 14)\t1.0\n",
      "  (28, 7)\t1.0\n",
      "  (29, 4)\t1.0\n",
      "\n",
      "tf-idf values in matrix form:\n",
      "[[0.         0.         0.         0.         0.         0.\n",
      "  0.         0.         0.         1.         0.         0.\n",
      "  0.         0.         0.         0.         0.         0.\n",
      "  0.         0.         0.        ]\n",
      " [0.         0.         0.         0.         0.         0.\n",
      "  0.         0.         0.         0.         0.         0.\n",
      "  1.         0.         0.         0.         0.         0.\n",
      "  0.         0.         0.        ]\n",
      " [0.         0.         0.         0.         0.         0.\n",
      "  0.         0.         0.         0.         0.         0.\n",
      "  0.         0.         0.         0.         1.         0.\n",
      "  0.         0.         0.        ]\n",
      " [0.         0.         0.         0.         0.         0.\n",
      "  0.         0.         0.         0.         0.         0.\n",
      "  0.         0.         0.         0.         0.         0.\n",
      "  0.         0.         0.        ]\n",
      " [0.         0.         0.         0.         0.         0.\n",
      "  0.         0.         0.         0.         1.         0.\n",
      "  0.         0.         0.         0.         0.         0.\n",
      "  0.         0.         0.        ]\n",
      " [0.         1.         0.         0.         0.         0.\n",
      "  0.         0.         0.         0.         0.         0.\n",
      "  0.         0.         0.         0.         0.         0.\n",
      "  0.         0.         0.        ]\n",
      " [0.         0.         0.         0.         0.         0.\n",
      "  0.         0.         0.         0.         0.         0.\n",
      "  0.         0.         0.         0.         0.         0.\n",
      "  0.         0.         1.        ]\n",
      " [0.         0.         0.         0.         0.         0.\n",
      "  1.         0.         0.         0.         0.         0.\n",
      "  0.         0.         0.         0.         0.         0.\n",
      "  0.         0.         0.        ]\n",
      " [0.         0.         0.         0.         0.         0.\n",
      "  0.         0.         0.         0.         0.         0.\n",
      "  0.         0.         0.         0.         0.         0.\n",
      "  1.         0.         0.        ]\n",
      " [0.         0.         0.         0.         0.         0.\n",
      "  0.         0.         0.         0.         0.         0.\n",
      "  0.         0.         0.         0.         0.         0.\n",
      "  0.         0.         0.        ]\n",
      " [0.         0.         0.         0.         0.         0.\n",
      "  0.         0.         0.         0.         0.         0.\n",
      "  0.         0.         0.         0.         0.         1.\n",
      "  0.         0.         0.        ]\n",
      " [0.         0.         0.         0.         0.         0.\n",
      "  0.         0.         0.         0.         0.         0.\n",
      "  0.         0.         0.         0.         0.         0.\n",
      "  0.         1.         0.        ]\n",
      " [0.         0.         0.         0.         0.         0.\n",
      "  0.         0.         0.         0.         0.         1.\n",
      "  0.         0.         0.         0.         0.         0.\n",
      "  0.         0.         0.        ]\n",
      " [0.         0.         0.         0.         0.         0.\n",
      "  0.         0.         1.         0.         0.         0.\n",
      "  0.         0.         0.         0.         0.         0.\n",
      "  0.         0.         0.        ]\n",
      " [0.         0.         0.         0.         0.         0.\n",
      "  0.         0.         0.         0.         0.         0.\n",
      "  0.         0.         0.         0.         0.         0.\n",
      "  0.         0.         0.        ]\n",
      " [1.         0.         0.         0.         0.         0.\n",
      "  0.         0.         0.         0.         0.         0.\n",
      "  0.         0.         0.         0.         0.         0.\n",
      "  0.         0.         0.        ]\n",
      " [0.         0.         0.         0.         0.         1.\n",
      "  0.         0.         0.         0.         0.         0.\n",
      "  0.         0.         0.         0.         0.         0.\n",
      "  0.         0.         0.        ]\n",
      " [0.         0.         0.         0.         0.         0.\n",
      "  0.         0.         0.         0.         0.         1.\n",
      "  0.         0.         0.         0.         0.         0.\n",
      "  0.         0.         0.        ]\n",
      " [0.         0.         1.         0.         0.         0.\n",
      "  0.         0.         0.         0.         0.         0.\n",
      "  0.         0.         0.         0.         0.         0.\n",
      "  0.         0.         0.        ]\n",
      " [0.         0.         0.         0.         0.         0.\n",
      "  0.         0.         0.         0.         0.         0.\n",
      "  0.         0.         0.         0.         0.         0.\n",
      "  0.         0.         0.        ]\n",
      " [0.         0.         0.         0.         0.         0.\n",
      "  0.         0.         0.         0.         0.         0.\n",
      "  0.         0.         0.         0.         0.         1.\n",
      "  0.         0.         0.        ]\n",
      " [0.         0.         0.         0.         0.         0.\n",
      "  0.         0.         0.         0.         0.         0.\n",
      "  0.         0.         0.         1.         0.         0.\n",
      "  0.         0.         0.        ]\n",
      " [0.         0.         0.         0.         0.         0.\n",
      "  0.         0.         0.         0.         0.         1.\n",
      "  0.         0.         0.         0.         0.         0.\n",
      "  0.         0.         0.        ]\n",
      " [0.         0.         0.         0.70710678 0.         0.\n",
      "  0.         0.         0.         0.         0.         0.\n",
      "  0.         0.70710678 0.         0.         0.         0.\n",
      "  0.         0.         0.        ]\n",
      " [0.         0.         0.         0.         0.         0.\n",
      "  0.         0.         0.         0.         0.         0.\n",
      "  0.         0.         0.         0.         0.         0.\n",
      "  0.         0.         0.        ]\n",
      " [0.         0.         0.         0.         0.         0.\n",
      "  0.         0.         0.         0.         0.         0.\n",
      "  0.         0.         0.         0.         0.         0.\n",
      "  0.         0.         1.        ]\n",
      " [0.         0.         0.         0.         0.         0.\n",
      "  0.         0.         0.         0.         0.         0.\n",
      "  0.         0.         1.         0.         0.         0.\n",
      "  0.         0.         0.        ]\n",
      " [0.         0.         0.         0.         0.         0.\n",
      "  0.         0.         0.         0.         0.         0.\n",
      "  0.         0.         0.         0.         0.         0.\n",
      "  0.         0.         0.        ]\n",
      " [0.         0.         0.         0.         0.         0.\n",
      "  0.         1.         0.         0.         0.         0.\n",
      "  0.         0.         0.         0.         0.         0.\n",
      "  0.         0.         0.        ]\n",
      " [0.         0.         0.         0.         1.         0.\n",
      "  0.         0.         0.         0.         0.         0.\n",
      "  0.         0.         0.         0.         0.         0.\n",
      "  0.         0.         0.        ]]\n",
      "\n",
      "Word indexes:\n",
      "{'hello': 9, 'mr': 12, 'smith': 16, 'how': 10, 'are': 1, 'you': 20, 'doing': 6, 'today': 18, 'the': 17, 'weather': 19, 'is': 11, 'great': 8, 'and': 0, 'city': 5, 'awesome': 2, 'sky': 15, 'pinkish': 13, 'blue': 3, 'should': 14, 'eat': 7, 'cardboard': 4} \n",
      "\n"
     ]
    }
   ],
   "source": [
    "from sklearn.feature_extraction.text import TfidfVectorizer\n",
    "tfidf = TfidfVectorizer()\n",
    "\n",
    "result = tfidf.fit_transform(tokenized_words)\n",
    "print(\"TF-IDF Values : \\n\",result)\n",
    "\n",
    "# in matrix form\n",
    "print('\\ntf-idf values in matrix form:')\n",
    "print(result.toarray())\n",
    "\n",
    "print('\\nWord indexes:')\n",
    "print(tfidf.vocabulary_,\"\\n\")"
   ]
  },
  {
   "cell_type": "code",
   "execution_count": null,
   "id": "7119c3df",
   "metadata": {},
   "outputs": [],
   "source": []
  }
 ],
 "metadata": {
  "kernelspec": {
   "display_name": "Python 3 (ipykernel)",
   "language": "python",
   "name": "python3"
  },
  "language_info": {
   "codemirror_mode": {
    "name": "ipython",
    "version": 3
   },
   "file_extension": ".py",
   "mimetype": "text/x-python",
   "name": "python",
   "nbconvert_exporter": "python",
   "pygments_lexer": "ipython3",
   "version": "3.10.0"
  }
 },
 "nbformat": 4,
 "nbformat_minor": 5
}
